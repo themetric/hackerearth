{
 "cells": [
  {
   "cell_type": "code",
   "execution_count": null,
   "metadata": {},
   "outputs": [],
   "source": [
    "import pandas as pd\n",
    "import numpy as np\n",
    "import seaborn as sns\n",
    "from sklearn.ensemble import RandomForestClassifier\n",
    "from sklearn.ensemble import RandomForestRegressor\n",
    "from sklearn.neural_network import MLPClassifier\n",
    "from sklearn.neighbors import KNeighborsClassifier \n",
    "\n",
    "from sklearn.metrics import accuracy_score\n",
    "from sklearn.metrics import confusion_matrix\n",
    "pd.set_option('display.max_columns', 1000)"
   ]
  },
  {
   "cell_type": "code",
   "execution_count": null,
   "metadata": {},
   "outputs": [],
   "source": [
    "train = pd.read_csv('data/train_data.csv')\n",
    "test = pd.read_csv('data/test_data.csv')"
   ]
  },
  {
   "cell_type": "code",
   "execution_count": null,
   "metadata": {},
   "outputs": [],
   "source": [
    "print('The train data has {} rows and {} columns'.format(train.shape[0], train.shape[1]))\n",
    "print('The test data has {} rows and {} columns'.format(test.shape[0], test.shape[1]))"
   ]
  },
  {
   "cell_type": "code",
   "execution_count": null,
   "metadata": {},
   "outputs": [],
   "source": [
    "## check target class\n",
    "train['target'].value_counts(normalize=True)"
   ]
  },
  {
   "cell_type": "markdown",
   "metadata": {},
   "source": [
    "There aren't any missing values. Let's jump to building models to get some baseline score."
   ]
  },
  {
   "cell_type": "code",
   "execution_count": null,
   "metadata": {
    "scrolled": false
   },
   "outputs": [],
   "source": [
    "## check missing values\n",
    "train.isnull().sum(axis=0) ## there are no missing values."
   ]
  },
  {
   "cell_type": "markdown",
   "metadata": {},
   "source": [
    "### Model - 0 (Majority Class)"
   ]
  },
  {
   "cell_type": "code",
   "execution_count": null,
   "metadata": {},
   "outputs": [],
   "source": [
    "## lets make a submission with all 0s\n",
    "sub = pd.read_csv('data/sample_submission.csv')\n",
    "sub['target'] = 0\n",
    "sub.to_csv('submissions/sub0.csv', index=False) ## 0.58"
   ]
  },
  {
   "cell_type": "markdown",
   "metadata": {
    "collapsed": true
   },
   "source": [
    "### Model 1 - XGB"
   ]
  },
  {
   "cell_type": "code",
   "execution_count": null,
   "metadata": {},
   "outputs": [],
   "source": [
    "#from sklearn.model_selection import train_test_split\n",
    "#import xgboost as xgb"
   ]
  },
  {
   "cell_type": "code",
   "execution_count": null,
   "metadata": {
    "scrolled": true
   },
   "outputs": [],
   "source": [
    "feature_names = [x for x in train.columns if x not in ['connection_id','target']]\n",
    "target = train['target']"
   ]
  },
  {
   "cell_type": "code",
   "execution_count": null,
   "metadata": {},
   "outputs": [],
   "source": [
    "#X_train, X_valid, y_train, y_valid = train_test_split(train, target, train_size = 0.7, stratify = target, random_state = 2017)"
   ]
  },
  {
   "cell_type": "code",
   "execution_count": null,
   "metadata": {},
   "outputs": [],
   "source": [
    "## function for multi-accuracy\n",
    "#from sklearn.metrics import accuracy_score\n",
    "#def multAcc(pred, dtrain):\n",
    "#    label = dtrain.get_label()\n",
    "#    acc = accuracy_score(label, pred)\n",
    "#return 'maccuracy', acc"
   ]
  },
  {
   "cell_type": "code",
   "execution_count": null,
   "metadata": {},
   "outputs": [],
   "source": [
    "# default parameters\n",
    "#params = {'objective':'multi:softmax',\n",
    " #         'num_class':3,\n",
    "          # 'eval_metric':'merror'\n",
    "  #       }"
   ]
  },
  {
   "cell_type": "code",
   "execution_count": null,
   "metadata": {},
   "outputs": [],
   "source": [
    "#dtrain = xgb.DMatrix(data=X_train[feature_names], label=y_train)\n",
    "#dvalid = xgb.DMatrix(data=X_valid[feature_names], label=y_valid)\n",
    "#dtest = xgb.DMatrix(data=test[feature_names])\n",
    "#watchlist = [(dtrain, 'train'),(dvalid, 'eval')]"
   ]
  },
  {
   "cell_type": "code",
   "execution_count": null,
   "metadata": {
    "scrolled": false
   },
   "outputs": [],
   "source": [
    "#clf1 = xgb.train(params, dtrain, 1000, watchlist, maximize=True, verbose_eval=20, early_stopping_rounds=40, feval=multAcc)"
   ]
  },
  {
   "cell_type": "code",
   "execution_count": null,
   "metadata": {},
   "outputs": [],
   "source": [
    "#pred = clf1.predict(dtest)"
   ]
  },
  {
   "cell_type": "code",
   "execution_count": null,
   "metadata": {},
   "outputs": [],
   "source": [
    "## make submission\n",
    "#sub = pd.read_csv('data/sample_submission.csv')\n",
    "#sub['target'] = pred\n",
    "#sub['target'] = sub['target'].astype(int)\n",
    "#sub.to_csv('submissions/sub1.csv', index=False)"
   ]
  },
  {
   "cell_type": "markdown",
   "metadata": {
    "collapsed": true
   },
   "source": [
    "### Decision Tree"
   ]
  },
  {
   "cell_type": "code",
   "execution_count": null,
   "metadata": {},
   "outputs": [],
   "source": [
    "from sklearn.model_selection import cross_val_score\n",
    "from sklearn.tree import DecisionTreeClassifier"
   ]
  },
  {
   "cell_type": "code",
   "execution_count": null,
   "metadata": {},
   "outputs": [],
   "source": [
    "## set up model\n",
    "clf2 = DecisionTreeClassifier(max_depth=8, min_samples_split=7, max_features='sqrt')"
   ]
  },
  {
   "cell_type": "code",
   "execution_count": null,
   "metadata": {},
   "outputs": [],
   "source": [
    "## train model\n",
    "clf2.fit(train[feature_names], target)"
   ]
  },
  {
   "cell_type": "code",
   "execution_count": null,
   "metadata": {},
   "outputs": [],
   "source": [
    "## make prediction\n",
    "pred2 = clf2.predict(test[feature_names])"
   ]
  },
  {
   "cell_type": "code",
   "execution_count": null,
   "metadata": {},
   "outputs": [],
   "source": [
    "## make submission\n",
    "sub = pd.read_csv('data/sample_submission.csv')\n",
    "sub['target'] = pred2\n",
    "sub['target'] = sub['target'].astype(int)\n",
    "sub.to_csv('submissions/sub2.csv', index=False)"
   ]
  },
  {
   "cell_type": "markdown",
   "metadata": {},
   "source": [
    "### KNN"
   ]
  },
  {
   "cell_type": "code",
   "execution_count": null,
   "metadata": {},
   "outputs": [],
   "source": [
    "print(\"Starting KNN\")\n",
    "knn = KNeighborsClassifier(n_neighbors=3,n_jobs=-1)\n",
    "\n",
    "knn.fit(train[feature_names], target)\n",
    "\n",
    "predictions = knn.predict(test[feature_names])\n",
    "\n",
    "actual_targets = train.head(91166)['target'].astype(int).tolist()\n",
    "\n",
    "predictions = predictions.astype(int)\n",
    "\n",
    "print(predictions[:5])\n",
    "print(actual_targets[:5])\n",
    "\n",
    "cm = pd.DataFrame(confusion_matrix(actual_targets, predictions), columns=[0,1,2], index=[0,1,2])\n",
    "print(cm)\n",
    "\n",
    "print(\"Train Accuracy :: {}\".format(accuracy_score(actual_targets, predictions)))\n",
    "\n",
    "sub['target'] = predictions\n",
    "sub['target'] = sub['target'].astype(int)\n",
    "sub.to_csv('submissions/knn.csv', index=False)"
   ]
  },
  {
   "cell_type": "markdown",
   "metadata": {},
   "source": [
    "### MLP"
   ]
  },
  {
   "cell_type": "code",
   "execution_count": null,
   "metadata": {},
   "outputs": [],
   "source": [
    "print(\"Starting MLP\")\n",
    "\n",
    "mlp = MLPClassifier(solver='lbfgs', alpha=1e-5,\n",
    "                     hidden_layer_sizes=(1,3), random_state=1)\n",
    "\n",
    "mlp.fit(train[feature_names], target)\n",
    "\n",
    "predictions = mlp.predict(test[feature_names])\n",
    "\n",
    "actual_targets = train.head(91166)['target'].astype(int).tolist()\n",
    "\n",
    "predictions = predictions.astype(int)\n",
    "\n",
    "print(predictions[:5])\n",
    "print(actual_targets[:5])\n",
    "\n",
    "cm = pd.DataFrame(confusion_matrix(actual_targets, predictions), columns=[0,1,2], index=[0,1,2])\n",
    "print(cm)\n",
    "\n",
    "print(\"Train Accuracy :: {}\".format(accuracy_score(actual_targets, predictions)))\n",
    "\n",
    "sub['target'] = predictions\n",
    "sub['target'] = sub['target'].astype(int)\n",
    "sub.to_csv('submissions/mlp.csv', index=False)"
   ]
  },
  {
   "cell_type": "markdown",
   "metadata": {},
   "source": [
    "### RFR"
   ]
  },
  {
   "cell_type": "code",
   "execution_count": null,
   "metadata": {},
   "outputs": [],
   "source": [
    "print(\"Starting RFR\")\n",
    "rfr = RandomForestRegressor(n_estimators=50, oob_score=True, random_state=32,n_jobs = -1, min_samples_leaf=4)\n",
    "rfr.fit(train[feature_names], target)\n",
    "predictions = rfr.predict(test[feature_names])\n",
    "\n",
    "actual_targets = train.head(91166)['target'].astype(int).tolist()\n",
    "\n",
    "predictions = predictions.astype(int)\n",
    "\n",
    "print(predictions[:5])\n",
    "print(actual_targets[:5])\n",
    "\n",
    "cm = pd.DataFrame(confusion_matrix(actual_targets, predictions), columns=[0,1,2], index=[0,1,2])\n",
    "print(cm)\n",
    "\n",
    "print(\"OOB Score :: {}\".format(rfr.oob_score_))\n",
    "print(\"Train Accuracy :: {}\".format(accuracy_score(actual_targets, predictions)))\n",
    "\n",
    "sub['target'] = predictions\n",
    "sub['target'] = sub['target'].astype(int)\n",
    "sub.to_csv('submissions/random_forest_regressor.csv', index=False)"
   ]
  },
  {
   "cell_type": "markdown",
   "metadata": {},
   "source": [
    "### Random Forest"
   ]
  },
  {
   "cell_type": "code",
   "execution_count": null,
   "metadata": {},
   "outputs": [],
   "source": [
    "sample_leaf_options = [5]\n",
    "\n",
    "def run_forest(leaf_size):\n",
    "    clf = RandomForestClassifier(n_estimators = 100, \n",
    "                                 oob_score = True, \n",
    "                                 n_jobs = -1,\n",
    "                                 random_state = 32,\n",
    "                                 max_features = \"auto\", \n",
    "                                 min_samples_leaf = leaf_size)\n",
    "\n",
    "    trained_model = clf.fit(train[feature_names], target)\n",
    "\n",
    "    print(\"Trained model :: \", trained_model)\n",
    "\n",
    "    predictions = trained_model.predict(test[feature_names])\n",
    "\n",
    "    for i in range(0, 25):\n",
    "        print(\"Actual outcome :: {} and Predicted outcome :: {}\".format(list(target)[i], predictions[i]))\n",
    "\n",
    "    actual_targets = train.head(91166)['target'].astype(int).tolist()\n",
    "\n",
    "    print(\"OOB Score :: {}\".format(clf.oob_score_))\n",
    "    print(\"Train Accuracy :: {}\".format(accuracy_score(actual_targets, predictions)))\n",
    "\n",
    "    #pd.crosstab(actual_targets, predictions, rownames=['Actual Target'], colnames=['Predicted Target'])\n",
    "\n",
    "    #print(\" Confusion matrix \", confusion_matrix(actual_targets, predictions))\n",
    "\n",
    "    #print(list(zip(train[feature_names], clf.feature_importances_)))\n",
    "    \n",
    "    cm = pd.DataFrame(confusion_matrix(actual_targets, predictions), columns=[0,1,2], index=[0,1,2])\n",
    "    print(cm)\n",
    "    \n",
    "    sub['target'] = predictions\n",
    "    sub['target'] = sub['target'].astype(int)\n",
    "    sub.to_csv('submissions/random_forest.csv', index=False)\n",
    "    return\n",
    "\n",
    "print('nothing')\n",
    "  \n",
    "for leaf_size in sample_leaf_options:\n",
    "    run_forest(leaf_size)"
   ]
  }
 ],
 "metadata": {
  "kernelspec": {
   "display_name": "Python 3",
   "language": "python",
   "name": "python3"
  },
  "language_info": {
   "codemirror_mode": {
    "name": "ipython",
    "version": 3
   },
   "file_extension": ".py",
   "mimetype": "text/x-python",
   "name": "python",
   "nbconvert_exporter": "python",
   "pygments_lexer": "ipython3",
   "version": "3.5.2"
  }
 },
 "nbformat": 4,
 "nbformat_minor": 2
}
